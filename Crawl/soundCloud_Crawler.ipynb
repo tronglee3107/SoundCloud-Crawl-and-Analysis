{
  "cells": [
    {
      "cell_type": "markdown",
      "id": "b324ddff",
      "metadata": {
        "id": "b324ddff"
      },
      "source": [
        "# Project 1: Thu thập dữ liệu từ trang SoundCloud\n",
        "\n",
        "<p>Trang Soundcloud là một trang web cho phép người dùng upload và chia sẻ các bài\n",
        "hát. Ở đây, chúng ta sẽ thu thập thông tin về các nghệ sĩ, ban nhạc, podcast và người sáng\n",
        "tác âm nhạc trên trang SoundCloud qua 2 cách <strong>Crawl data (Parse HTML)</strong> và sử dụng <strong>API</strong>.</p>\n",
        "\n",
        "\n"
      ]
    },
    {
      "cell_type": "markdown",
      "id": "c71dbad8",
      "metadata": {
        "id": "c71dbad8"
      },
      "source": [
        "#### Set up:\n",
        "* Import các thư viện cần thiết:"
      ]
    },
    {
      "cell_type": "code",
      "execution_count": null,
      "id": "39eafbc4",
      "metadata": {
        "id": "39eafbc4"
      },
      "outputs": [],
      "source": [
        "import requests\n",
        "import requests_cache\n",
        "from bs4 import BeautifulSoup\n",
        "from requests_html import HTMLSession\n",
        "import time\n",
        "import json\n",
        "import re\n",
        "import pandas as pd # Dùng để đọc và hiển thị file csv/tsv\n",
        "from datetime import datetime, timedelta # Dùng để xử lý dữ liệu thời gian\n"
      ]
    },
    {
      "cell_type": "markdown",
      "id": "104f7b11",
      "metadata": {
        "id": "104f7b11"
      },
      "source": [
        "* Setup/install cache để giúp giảm số lần phải lấy dữ liệu:\n"
      ]
    },
    {
      "cell_type": "code",
      "execution_count": null,
      "id": "40e81dea",
      "metadata": {
        "id": "40e81dea"
      },
      "outputs": [],
      "source": [
        "def CheckCache(response):\n",
        "    a='\"incomplete_results\":true'\n",
        "    if a in response.text:\n",
        "        return False\n",
        "    else:\n",
        "        return True\n",
        "\n",
        "requests_cache.install_cache('demo-cache',expire_after=None,filter_fn=CheckCache)"
      ]
    },
    {
      "cell_type": "markdown",
      "id": "898e0702",
      "metadata": {
        "id": "898e0702"
      },
      "source": [
        "### Part 1: API\n",
        "\n",
        "Để thu thập thông tin trang SoundCloud bằng API, ta thực hiện đi từ playlist.\n",
        "\n",
        "Ta sẽ lấy những playlist khả dụng bằng cách get trang `https://api-v2.soundcloud.com/playlists/[playlistID]?client_id=[cliend_id]` . Sau đó, ta sẽ cài đặt các hàm xử lý file json có từ những trang này để lấy thông tin của playlist, user và track tương ứng. \n",
        "\n",
        "\n"
      ]
    },
    {
      "cell_type": "markdown",
      "id": "10d25840",
      "metadata": {
        "id": "10d25840"
      },
      "source": [
        "1.1. Hàm `getEmptyPlaylist(keys)` có input:\n",
        "`keys` (kiểu dữ liệu list) , sau khi hàm được thực hiện , các trường dữ liệu của PlayList sẽ được lưu vào keys\n",
        "  Hàm được sử dụng để lấy các trường dữ liệu của Playlist , và sẽ trả về 1 dict với key là các trường dữ liệu vừa lấy được và value là 1 list trống:"
      ]
    },
    {
      "cell_type": "code",
      "execution_count": null,
      "id": "c8f2d881",
      "metadata": {
        "id": "c8f2d881"
      },
      "outputs": [],
      "source": [
        "def getEmptyPlaylist(keys):\n",
        "    playlistID=1\n",
        "    url=f'https://api-v2.soundcloud.com/playlists/{playlistID}?client_id=6gsNBd4mJwXr0LxTBh8VKBOrViK6Aj56'\n",
        "    r=requests.get(url)\n",
        "    playList_temp = json.loads(r.text)\n",
        "    _playList=playList_temp\n",
        "\n",
        "    #chua cac key cua playlist\n",
        "    #keys=[]\n",
        "    junk_keys=['embeddable_by','kind','license','permalink','sharing','uri','set_type','published_at']\n",
        "    for key in junk_keys:\n",
        "        _playList.pop(key,None)\n",
        "    for key in playList_temp.keys():\n",
        "        if key not in junk_keys:\n",
        "            if key == 'id':\n",
        "                keys.insert(0,key)\n",
        "            else:\n",
        "                keys.append(key)\n",
        "    for i in keys:\n",
        "        _playList[i]=[]  #tao ra mot dict rong de save du lieu ve sau\n",
        "    playListID ={'id':[]}\n",
        "    _playList.pop('id',None)\n",
        "    _playList={**playListID, **_playList}\n",
        "    \n",
        "    return _playList"
      ]
    },
    {
      "cell_type": "markdown",
      "id": "54cf4880",
      "metadata": {
        "id": "54cf4880"
      },
      "source": [
        "1.2. Hàm `getEmptyUser(keys_user)` có input:\n",
        "`keys_user` (kiểu dữ liệu list) , sau khi hàm được thực hiện , các trường dữ liệu của User  sẽ được lưu vào keys_user\n",
        "  Hàm được sử dụng để lấy các trường dữ liệu của User , và sẽ trả về 1 dict với key là các trường dữ liệu vừa lấy được và value là 1 list trống"
      ]
    },
    {
      "cell_type": "code",
      "execution_count": null,
      "id": "f85c30fc",
      "metadata": {
        "id": "f85c30fc"
      },
      "outputs": [],
      "source": [
        "def getEmptyUser(keys_user):\n",
        "    playlistID=1\n",
        "    url=f'https://api-v2.soundcloud.com/playlists/{playlistID}?client_id=6gsNBd4mJwXr0LxTBh8VKBOrViK6Aj56'\n",
        "    r=requests.get(url)\n",
        "    playList_temp = json.loads(r.text)\n",
        "    _userList=playList_temp['user']\n",
        "\n",
        "    #chua cac key cua playlist\n",
        "    #keys=[]\n",
        "    junk_keys=['permalink','sharing','uri','urn','station_urn','station_permalink','kind']\n",
        "    for key in junk_keys:\n",
        "        _userList.pop(key,None)\n",
        "    for key in playList_temp['user'].keys():\n",
        "        if key not in junk_keys:\n",
        "            if key == 'id':\n",
        "                keys_user.insert(0,key)\n",
        "            else:\n",
        "                keys_user.append(key)\n",
        "    for i in keys_user:\n",
        "        _userList[i]=[]  #tao ra mot dict rong de save du lieu ve sau\n",
        "    userListID ={'id':[]}\n",
        "    _userList.pop('id',None)\n",
        "    _userList={**userListID, **_userList}\n",
        "    \n",
        "    return _userList     "
      ]
    },
    {
      "cell_type": "markdown",
      "id": "3dc2741f",
      "metadata": {
        "id": "3dc2741f"
      },
      "source": [
        "1.3. Hàm `getEmptyTrackt(keys_track)` có input:\n",
        "`keys_track` (kiểu dữ liệu list) , sau khi hàm được thực hiện , các trường dữ liệu của PlayList sẽ được lưu vào keys_track\n",
        "  Hàm được sử dụng để lấy các trường dữ liệu của Track , và sẽ trả về 1 dict với key là các trường dữ liệu vừa lấy được và value là 1 list trống"
      ]
    },
    {
      "cell_type": "code",
      "execution_count": null,
      "id": "5d644e1c",
      "metadata": {
        "id": "5d644e1c"
      },
      "outputs": [],
      "source": [
        "def getEmptyTrack(keys_track):\n",
        "    playlistID=1\n",
        "    url=f'https://api-v2.soundcloud.com/playlists/{playlistID}?client_id=6gsNBd4mJwXr0LxTBh8VKBOrViK6Aj56'\n",
        "    r=requests.get(url)\n",
        "    playList_temp = json.loads(r.text)\n",
        "    _trackList=playList_temp['tracks'][0]\n",
        "    \n",
        "    junk_keys=['user_id','user', 'station_urn','media','waveform_url','publisher_metadata','embeddable_by','has_downloads_left','kind', 'license','permalink','sharing','uri','urn','visuals','waveform_url''station_urn','station_permalink','track_authorization','policy']\n",
        "    for key in junk_keys:\n",
        "        _trackList.pop(key,None)\n",
        "    for key in _trackList.keys():\n",
        "        if key=='id':\n",
        "            keys_track.insert(0,key)\n",
        "        else:\n",
        "            keys_track.append(key)\n",
        "    keys_track.append('mime_type')\n",
        "    keys_track.append('quality')\n",
        "    keys_track.append('owner')\n",
        "    media={'mime_type':[],'quality':[],'owner':[]}\n",
        "    _trackList={**_trackList,**media}\n",
        "    for key in keys_track:\n",
        "        _trackList[key]=[]\n",
        "    trackID ={'id':[]}\n",
        "    _trackList.pop('id',None)\n",
        "    _trackList={**trackID, **_trackList}\n",
        "    return _trackList"
      ]
    },
    {
      "cell_type": "markdown",
      "id": "0ad2d30a",
      "metadata": {
        "id": "0ad2d30a"
      },
      "source": [
        "1.4. Hàm `check_Exist(id , list_id)` có input:\n",
        "- `id`: là ID của User hoặc Playlist hay Track\n",
        "- `list_id` : là danh sách các id của User hoặc Playlist hay Track đã được thu thập \n",
        " \n",
        " Để tránh trường hợp trùng lặp bộ giá trị , hàm được sử dụng để kiểm tra 1 bộ dữ liệu đã được thu thập hay chưa thông qua id , hàm trả về True hoặc False "
      ]
    },
    {
      "cell_type": "code",
      "execution_count": null,
      "id": "25fd1b8c",
      "metadata": {
        "id": "25fd1b8c"
      },
      "outputs": [],
      "source": [
        "def checkExist(value,userList):\n",
        "    if value in userList:\n",
        "        return True\n",
        "    else:\n",
        "        return False"
      ]
    },
    {
      "cell_type": "markdown",
      "id": "260c4cdf",
      "metadata": {
        "id": "260c4cdf"
      },
      "source": [
        "1.5. Hàm `getTrackList` có các input:\n",
        "- `playListTrack` : là dict chứa các thông tin của track có được từ playlsist\n",
        "- `_trackList`: là dict chứa các dữ liệu cần lấy cho track\n",
        "- `keys_track`: là list chứa các key cần lấy của track\n",
        "\n",
        "Sau khi thực hiện hàm, `_trackList` sẽ được thêm các dữ liệu của track lấy được"
      ]
    },
    {
      "cell_type": "code",
      "execution_count": null,
      "id": "db7c557b",
      "metadata": {
        "id": "db7c557b"
      },
      "outputs": [],
      "source": [
        "def getTrackList(playListTrack,_trackList,keys_track):\n",
        "    #print(playListTrack['artwork_url'])\n",
        "    for key in keys_track:\n",
        "        checkNone =False\n",
        "        try:\n",
        "            if(str(playListTrack[key])=='None'  or str(playListTrack[key])=='NaN'or playListTrack[key]==0):\n",
        "                checkNone=True\n",
        "        except:\n",
        "            pass\n",
        "        try:\n",
        "            if checkNone==False:\n",
        "\n",
        "                if key=='mime_type':\n",
        "                    mime_type=playListTrack['media']['transcodings'][0]['format']['mime_type']\n",
        "                    _trackList[key].append(mime_type)\n",
        "                elif key=='quality':\n",
        "                    quality=playListTrack['media']['transcodings'][0]['quality']\n",
        "                    _trackList[key].append(quality)\n",
        "                elif key =='owner':\n",
        "                    owner=playListTrack['user']['id']\n",
        "                    _trackList[key].append(owner)\n",
        "                else:\n",
        "                    _trackList[key].append(playListTrack[key])\n",
        "            else:\n",
        "                _trackList[key].append('None') \n",
        "        except:\n",
        "            pass"
      ]
    },
    {
      "cell_type": "markdown",
      "id": "0a3d276c",
      "metadata": {
        "id": "0a3d276c"
      },
      "source": [
        "1.6. Hàm `getUserList` có các input:\n",
        "- `playList` : là dict chứa các thông tin của playlsist\n",
        "- `_userList`: là dict chứa các dữ liệu cần lấy cho user\n",
        "- `keys_user`: là list chứa các key cần lấy của user\n",
        "\n",
        "Sau khi thực hiện hàm, `_userList` sẽ được thêm các dữ liệu của user lấy được"
      ]
    },
    {
      "cell_type": "code",
      "execution_count": null,
      "id": "3c5fd072",
      "metadata": {
        "id": "3c5fd072"
      },
      "outputs": [],
      "source": [
        "def getUserList(playList,_userList,keys_user):\n",
        "    for key in keys_user:\n",
        "        checkNone =False\n",
        "        try:\n",
        "            if(str(playList['user'][key])=='None'  or str(playList['user'][key])=='NaN'or len(playList['user'][key])==0):\n",
        "                checkNone=True\n",
        "        except:\n",
        "            pass\n",
        "        if checkNone==False:\n",
        "        \n",
        "            if key=='badges':\n",
        "                badges=''\n",
        "                for badge in playList['user'][key]:\n",
        "                    #print(type(playList['user'][key][badge]))\n",
        "                    if(playList['user'][key][badge]==True):\n",
        "                        badges=badges+str(badge)+','\n",
        "                if badges=='':\n",
        "                    badges='Nonee'\n",
        "                badges=badges[:-1]\n",
        "                _userList[key].append(badges)\n",
        "            else:\n",
        "                _userList[key].append(playList['user'][key])\n",
        "        else:\n",
        "            _userList[key].append('None') "
      ]
    },
    {
      "cell_type": "markdown",
      "id": "5ba51e38",
      "metadata": {
        "id": "5ba51e38"
      },
      "source": [
        "1.7. Hàm `getPlayList` có các input:\n",
        "- `playList` : là dict chứa các thông tin của playlist\n",
        "- `_playList`: là dict chứa các dữ liệu cần lấy cho playlist\n",
        "- `keys`: là list chứa các key cần lấy của playlist\n",
        "\n",
        "Sau khi thực hiện hàm, `_playList` sẽ được thêm các dữ liệu của playlist lấy được"
      ]
    },
    {
      "cell_type": "code",
      "execution_count": null,
      "id": "9762f6b8",
      "metadata": {
        "id": "9762f6b8"
      },
      "outputs": [],
      "source": [
        "def getPlayList(playList,_playList,keys):\n",
        "    for key in keys:\n",
        "        checkNone =False\n",
        "        try:\n",
        "            if(str(playList[key])=='None'  or str(playList[key])=='NaN'or len(playList[key])==0):\n",
        "                checkNone=True\n",
        "        except:\n",
        "            pass\n",
        "        if checkNone==False:\n",
        "            if key=='user':\n",
        "                _playList[key].append(playList[key]['id'])\n",
        "            elif key=='tracks':\n",
        "                tracks=''\n",
        "                for id in playList[key]:\n",
        "                    tracks=tracks+str(id['id'])+','\n",
        "                tracks = tracks[:-1]\n",
        "                _playList[key].append(tracks)\n",
        "            else:\n",
        "                _playList[key].append(playList[key])\n",
        "        else:\n",
        "            _playList[key].append('None') "
      ]
    },
    {
      "cell_type": "markdown",
      "id": "451330e3",
      "metadata": {
        "id": "451330e3"
      },
      "source": [
        "Ở một số Playlist, tồn tại một số track không có đủ thông tin cần thu thập mà chỉ có một số thông tin cơ bản.\n",
        "\n",
        "Hàm `checkKeysTrack(key_Track, list_Track)` dùng để kiếm tra xem một track có đủ thông tin cần lấy hay không."
      ]
    },
    {
      "cell_type": "code",
      "execution_count": null,
      "id": "935c45ea",
      "metadata": {
        "id": "935c45ea"
      },
      "outputs": [],
      "source": [
        "def checkKeysTrack(key_Track, list_Track):\n",
        "    for i in key_Track[0:5]:\n",
        "        if i not in list_Track.keys():\n",
        "            return False\n",
        "    if len(list_Track['media']['transcodings'])>0:\n",
        "        if 'mime_type' not in list_Track['media']['transcodings'][0]['format'].keys():\n",
        "            return False\n",
        "        if 'quality' not in list_Track['media']['transcodings'][0].keys():\n",
        "            return False\n",
        "    else:\n",
        "        return False\n",
        "    return True"
      ]
    },
    {
      "cell_type": "markdown",
      "id": "708179e9",
      "metadata": {
        "id": "708179e9"
      },
      "source": [
        "Khai báo các biến \n",
        "* `keys` : là list trường dữ liệu của Playlist\n",
        "* `keys_user` : là list trường dữ liệu của User\n",
        "* `keys_track` : là list trường dữ liệu của Track \n",
        "* `_playList , _userList , _trackList :` là các dict để chứa dữ liệu của Playlist , User , Track`\n",
        "* `i` : id của 1 Playlist \n",
        "* `k` : số lượng của Playlist đã được thu thập, để kiểm soát được số lượng đã thu thập\n",
        "* `target` : số bộ giá trị tối thiểu cần đạt được khi thu thập dữ liệu \n",
        "Khởi tạo giá trị cho i là 1 , tăng i lên 1 sau mỗi lần get API và thu thập dữ liệu nếu get API thành công.   Nếu số bộ dữ liệu chưa đạt được target ta tiếp tục tăng i \n",
        "\n",
        "Chuyển các dữ liệu đã thu thập vào dataFrame và lưu vào file csv"
      ]
    },
    {
      "cell_type": "code",
      "execution_count": null,
      "id": "04f8ebd1",
      "metadata": {
        "id": "04f8ebd1"
      },
      "outputs": [],
      "source": [
        "keys=[]\n",
        "_playList={}\n",
        "_playList=getEmptyPlaylist(keys)\n",
        "keys_user=[]\n",
        "_userList={}\n",
        "_userList=getEmptyUser(keys_user)\n",
        "keys_track=[]\n",
        "_trackList =getEmptyTrack(keys_track)\n",
        "i=1\n",
        "k=1\n",
        "target=1000\n",
        "while len(_playList['id'])<=target or len(_userList['id'])<=target or len(_trackList['id'])<=target: #or _userList<=1000 or _trackList<=1000:\n",
        "    url=f'https://api-v2.soundcloud.com/playlists/{i}?client_id=6gsNBd4mJwXr0LxTBh8VKBOrViK6Aj56'\n",
        "    r=requests.get(url)\n",
        "    if r.ok ==True:\n",
        "        #print(f'Links: {i}, Lan: {k}')  # this is for testing\n",
        "        \n",
        "        k=k+1\n",
        "        playList=json.loads(r.text)\n",
        "        getPlayList(playList,_playList,keys)\n",
        "        if(checkExist(playList['user']['id'],_userList['id'])==False):\n",
        "            getUserList(playList,_userList,keys_user)\n",
        "        #just need to get 5 out of track_count\n",
        "        times=0\n",
        "        if(playList['track_count']>3):\n",
        "            times=3\n",
        "        else:\n",
        "            times=playList['track_count']\n",
        "        for index in range(0,times):\n",
        "            playListTrack=playList['tracks'][index]\n",
        "            if(checkExist(playListTrack['id'],_trackList['id'])==False and checkKeysTrack(keys_track,playListTrack) == True):\n",
        "                getTrackList(playListTrack,_trackList,keys_track)\n",
        "        #Your code here\n",
        "        #example\n",
        "        #getUser(playList,_user,keys of user)\n",
        "        #getTrack(track,_track,keys of track)\n",
        "       # p=len(_playList['id'])\n",
        "       # u=len(_userList['id'])\n",
        "       # t=len(_trackList['id'])\n",
        "       # print(f'playlist: {p}, user: {u}, tracks: {t}')\n",
        "        \n",
        "    i=i+1"
      ]
    },
    {
      "cell_type": "markdown",
      "id": "94f837ee",
      "metadata": {
        "id": "94f837ee"
      },
      "source": [
        "Lưu thông tin playlist, user, track vào các file csv tương ứng"
      ]
    },
    {
      "cell_type": "code",
      "execution_count": null,
      "id": "7ba42422",
      "metadata": {
        "id": "7ba42422"
      },
      "outputs": [],
      "source": [
        "df1 = pd.DataFrame(_playList)\n",
        "df2 = pd.DataFrame(_userList) \n",
        "df3=pd.DataFrame(_trackList)\n",
        "\n",
        "df1.to_csv(f'./Api_data/playlist.csv',index=False,encoding='utf-8')\n",
        "df2.to_csv(f'./Api_data/userlist.csv',index=False,encoding='utf-8')\n",
        "df3.to_csv(f'./Api_data/tracklist.csv',index=False,encoding='utf-8')"
      ]
    },
    {
      "cell_type": "markdown",
      "id": "2485ee28",
      "metadata": {
        "id": "2485ee28"
      },
      "source": [
        "### Part 2: Parse HTML\n",
        "\n",
        "**Khai báo các set chứa các nhãn dữ liệu trong dataframe:**\n",
        "\n",
        "* `u_unorder`: là một set chứa các nhãn dữ liệu của dataframe users dựa theo thứ tự trong script ở kết quả trả về request trang web, chưa được sắp xếp thứ tự\n",
        "* `u_order`: là một set chứa các nhãn dữ liệu của dataframe users đã được sắp xếp thứ tự\n",
        "* `p_unorder`: là một set chứa các nhãn dữ liệu của dataframe playlists dựa theo thứ tự trong script ở kết quả trả về request trang web, chưa được sắp xếp thứ tự\n",
        "* `p_order`: là một set chứa các nhãn dữ liệu của dataframe playlists đã được sắp xếp thứ tự\n",
        "* `t_unorder`: là một set chứa các nhãn dữ liệu của dataframe tracks dựa theo thứ tự trong script ở kết quả trả về request trang web, chưa được sắp xếp thứ tự\n",
        "* `t_order`: là một set chứa các nhãn dữ liệu của dataframe tracks đã được sắp xếp thứ tự\n",
        "\n",
        "**Thông tin các nhãn dữ liệu:**\n",
        "* Users: \n",
        "\n",
        "    * `id`: id người dùng \n",
        "    * `username`: tên người dùng\n",
        "    * `first_name`: Tên hiển thị của người dùng\n",
        "    * `last_name`: Họ hiển thị của người dùng\n",
        "    * `full_name`: Tên hiển thị đầy đủ của người dùng\n",
        "    * `description`: Mô tả thông tin giới thiệu của người dùng\n",
        "    * `avatar_url`: đường dẫn đến avatar của người dùng\n",
        "    * `country_name`: tên quốc gia của người dùng\n",
        "    * `city`: thành phố hiện tại của người dùng\n",
        "    * `created_at`: thời gian tạo tài khoản\n",
        "    * `last_modified`: thời gian lần cuối chỉnh sửa thông tin\n",
        "    * `followers_count`: số lượng người theo dõi\n",
        "    * `followings_count`: số lượng người đang theo dõi\n",
        "    * `groups_count`: số lượng group tham gia\n",
        "    * `comments_count`: số lượng lượt bình luận nhận được \n",
        "    * `likes_count`: số lượng lượt thích nhận được\n",
        "    * `playlist_likes_count`: số lượng lượt thích của playlist do người dùng tạo\n",
        "    * `playlist_count`: số lượng playlist do người dùng tạo ra\n",
        "    * `track_count`: số lượng track do người dùng tải lên\n",
        "    * `permalink_url`: đường dẫn đến trang cá nhân của người dùng\n",
        "\n",
        "* Playlists:\n",
        "    * `id`: id của playlist \n",
        "    * `title`: tựa đề của playlist\n",
        "    * `image_playlist`: đường dẫn đến ảnh đại diện của playlist\n",
        "    * `numTracks`: số lượng track có trong playlist\n",
        "    * `description`: thông tin mô tả giới thiệu playlist\n",
        "    * `duration`: tổng thời gian các track của playlist\n",
        "    * `genre`: thể loại \n",
        "    * `label_name`: tên hãng thu playlist\n",
        "    * `tag_list`: danh sách hashtag do người dùng thêm vào\n",
        "    * `author`: tên người tạo playlist\n",
        "    * `created_at`: thời gian tạo playlist\n",
        "    * `release_date`: thời gian phát hình playlist\n",
        "    * `last_modified`: thời gian lần cuối chỉnh sửa playlist\n",
        "    * `likes_count`: số lượng lượt thích của playlist\n",
        "    * `reposts_count`: số lượng lượt được đăng lại (chia sẻ) của playlist\n",
        "    * `public`: trạng thái playlist có được truy cập công khai hay không\n",
        "    * `sharing`: trạng thái playlist có được chia sẻ hay không\n",
        "    * `trackids`: chuỗi các ID của các track có trong playlist\n",
        "    * `first_track`: đường dẫn của track đầu tiên trong playlist\n",
        "    * `permalink_url`: đường dẫn đến playlist\n",
        "\n",
        "* Tracks:\n",
        "    * `id`: id của track\n",
        "    * `title`: tựa đề của track\n",
        "    * `description`: thông tin mô tả, giới thiệu track\n",
        "    * `track_format`: hình thức của track\n",
        "    * `duration`: thời lượng track \n",
        "    * `genre`: thể loại track \n",
        "    * `label_name`: tên hãng thu track \n",
        "    * `tag_list`: danh sách hashtag người dùng thêm vào cho track\n",
        "    * `author`: tên người tạo track\n",
        "    * `created_at`: thời gian tạo\n",
        "    * `release_date`: thời gian phát hành\n",
        "    * `last_modified`: thời gian lần cuối chỉnh sửa\n",
        "    * `comment_count`: số lượng lượt bình luận\n",
        "    * `download_count`: số lượng lượt tải về\n",
        "    * `likes_count`: số lượng lượt thích\n",
        "    * `playback_count`: số lượng lượt phát/ chạy track\n",
        "    * `reposts_count`: số lượng lượt đăng lại track\n",
        "    * `state`: trạng thái của track\n",
        "    * `public`: trạng thái track có được truy cập công khai hay không\n",
        "    * `permalink_url`: đường dẫn đến track \n",
        "\n",
        "\n",
        "\n",
        "\n"
      ]
    },
    {
      "cell_type": "code",
      "execution_count": null,
      "id": "954c6e68",
      "metadata": {
        "id": "954c6e68"
      },
      "outputs": [],
      "source": [
        "#cài đặt hiển thị tất cả các cột\n",
        "pd.set_option('display.max_columns', None)\n",
        "#set các trường dữ liệu cài đặt cho dataframe lưu dữ liệu users, playlists, tracks\n",
        "u_unorder=['username','country_name','avatar_url','city','comments_count','created_at','description','followers_count','followings_count','first_name','full_name','groups_count','id','last_modified','last_name','likes_count','playlist_likes_count','permalink_url','playlist_count','track_count']\n",
        "u_order=['id','username','first_name','last_name','full_name','description','avatar_url','country_name','city','created_at','last_modified','followers_count','followings_count','groups_count','comments_count','likes_count','playlist_likes_count','playlist_count','track_count','permalink_url']\n",
        "p_unorder=['author','image_playlist','numTracks','created_at','description','duration','genre','id','label_name','last_modified','likes_count','permalink_url','public','release_date','reposts_count','sharing','tag_list','title','trackids','first_track']\n",
        "p_order=['id','title','image_playlist','description','duration','genre','label_name','tag_list','author','created_at','release_date','last_modified','likes_count','reposts_count','public','sharing','numTracks','trackids','first_track','permalink_url']\n",
        "t_unorder=['comment_count','created_at','description','download_count','duration','genre', 'id', 'label_name', 'last_modified', 'likes_count','permalink_url', 'playback_count','release_date', 'reposts_count', 'tag_list','title', 'track_format','author']\n",
        "t_order=['id', 'title','description','track_format','duration','genre', 'label_name', 'tag_list','author','created_at', 'release_date','last_modified', 'comment_count','download_count', 'likes_count', 'playback_count', 'reposts_count', 'permalink_url']"
      ]
    },
    {
      "cell_type": "markdown",
      "id": "deb30cf9",
      "metadata": {
        "id": "deb30cf9"
      },
      "source": [
        "Hàm `collect_user` có các input sau: \n",
        "* `url`: là chuỗi dạng f-string cho biết đường link đến trang user cần lấy thông tin\n",
        "* `users`: là dataframe chứa thông tin của user thu thập được, gồm các nhãn dữ liệu đã được khai báo \n",
        "* Hàm này dùng để thu thập các thông tin của user thêm vào users, hàm trả về dataframe users và kết quả thu thập True, False"
      ]
    },
    {
      "cell_type": "code",
      "execution_count": null,
      "id": "61790f6b",
      "metadata": {
        "id": "61790f6b"
      },
      "outputs": [],
      "source": [
        "def collect_user(url,users):\n",
        "    session = HTMLSession()\n",
        "    r = session.get(url)\n",
        "    if(r):\n",
        "        value=[]\n",
        "        soup=BeautifulSoup(r.content,features='html.parser')\n",
        "        for s in (soup.find_all(\"script\")):\n",
        "            #Xét script có dữ liệu cần tìm \n",
        "            if(\"hydratable\" in str(s)):\n",
        "                #Lấy các dữ liệu trong meta\n",
        "                st=str(s).find('\"username\"')\n",
        "                en=str(s).find('\",',st)\n",
        "                value.append(str(s)[st+len('\"username\":\"'):en])\n",
        "                value.append(soup.find(\"meta\", property=\"og:country-name\").get('content'))\n",
        "                #Cắt chuỗi trong script\n",
        "                i=str(s).find('{\"hydratable\":\"user\",\"')\n",
        "                j=str(s).find('\"uri\"')\n",
        "                s=str(s)[i+len('{\"hydratable\":\"user\",\"data\":{'):j-1]\n",
        "                #Cắt chuỗi thành một mảng gồm nhiều trường dữ liệu\n",
        "                r1 = re.split(r',\"',s)\n",
        "                for i in r1:\n",
        "                    t=re.split(r'\":',i)\n",
        "                    #Với mỗi phần tử là trường dữ liệu tồn tại trong dataframe, thêm vào mảng tạm value theo thứ tự\n",
        "                    if(t[0].strip('\"') in list(users)):\n",
        "                        #Nếu t được cắt thành 2 phần tử thì thêm t[1] là giá trị vào value\n",
        "                        #Nếu t được cắt thành 1 trường dữ liệu t[0] là tên của trường dữ liệu, thêm null vào value\n",
        "                        #Ngược lại, nếu t rỗng thì bỏ qua\n",
        "                        if(len(t)==2):\n",
        "                            value.append(t[1].strip('\"'))\n",
        "                        elif(t[0]):\n",
        "                            value.append('null')\n",
        "                #Xét điều kiện kích thước của value bằng số lượng các cột của users thì thêm dữ liệu vào users\n",
        "                if(len(value)==len(list(users))):\n",
        "                    zipped = zip(list(users), value)\n",
        "                    u = dict(zipped)\n",
        "                    users=users.append(u,ignore_index=True)\n",
        "                    return users, True\n",
        "    return users, False"
      ]
    },
    {
      "cell_type": "markdown",
      "id": "1150640f",
      "metadata": {
        "id": "1150640f"
      },
      "source": [
        "\n",
        "Hàm `collect_playlist` có các input sau: \n",
        "* `url`: là chuỗi dạng f-string, cho biết đường link đến trang playlist cần lấy thông tin\n",
        "* `playlists`: là dataframe chứa thông tin của playlist thu thập được, gồm các nhãn dữ liệu đã được khai báo \n",
        "* Hàm này dùng để thu thập các thông tin của playlist thêm vào playlists, hàm trả về dataframe playlists và kết quả thu thập True, False\n"
      ]
    },
    {
      "cell_type": "code",
      "execution_count": null,
      "id": "9e6c8acc",
      "metadata": {
        "id": "9e6c8acc"
      },
      "outputs": [],
      "source": [
        "def collect_playlist(url,playlists):\n",
        "    session = HTMLSession()\n",
        "    r = session.get(url) \n",
        "    if(r):\n",
        "        value=[]\n",
        "        soup = BeautifulSoup(r.content,features=\"html.parser\")\n",
        "        for s in (soup.find_all(\"script\")):\n",
        "            #Xét script có dữ liệu cần tìm \n",
        "            if(\"hydratable\" in str(s)):\n",
        "                #Lấy các dữ liệu trong meta\n",
        "                value.append(soup.find(\"meta\",itemprop=\"name\").get('content'))\n",
        "                value.append(soup.find(\"meta\", property=\"og:image\").get('content'))\n",
        "                value.append(soup.find(\"meta\", itemprop=\"numTracks\").get('content'))\n",
        "                #Cắt chuỗi trong script\n",
        "                i=str(s).find('{\"hydratable\":\"playlist\"')\n",
        "                s=str(s)[i+len('{\"hydratable\":\"playlist\",\"data\":{'):]\n",
        "                j=s.find('\"uri\"')\n",
        "                s1=s[:j-1]\n",
        "                s2=s[str(s).find('\"tracks\":[{')+len('\"tracks\":[{'):]\n",
        "                #Cắt chuỗi thành một mảng gồm nhiều trường dữ liệu\n",
        "                r1 = re.split(r',\"',s1)\n",
        "                for i in r1:\n",
        "                    t=re.split(r'\":',i)\n",
        "                    #Với mỗi phần tử là trường dữ liệu tồn tại trong dataframe, thêm vào mảng tạm value theo thứ tự\n",
        "                    if(t[0].strip('\"') in list(playlists)):\n",
        "                        #Nếu t được cắt thành 2 phần tử thì thêm t[1] là giá trị vào value\n",
        "                        if(len(t)==2): \n",
        "                            value.append(t[1].strip('\"'))\n",
        "                trackids=\"'\"\n",
        "                for k in range(min(5,int(value[2]))):\n",
        "                    s2=s2[str(s2).find('\"id\":')+len('\"id\":'):]\n",
        "                    end=str(s2).find(',\"')\n",
        "                    trackids = trackids + s2[:end]\n",
        "                    if(k!=int(value[2])-1): \n",
        "                        trackids=trackids+\",\"\n",
        "                for k in range(0,int(value[2])-5):\n",
        "                    s2=s2[str(s2).find('{\"id\":')+len('{\"id\":'):]\n",
        "                    end=str(s2).find(',\"')\n",
        "                    trackids = trackids + s2[:end]\n",
        "                    if(k!=int(value[2])-5-1): \n",
        "                        trackids=trackids+','\n",
        "                trackids=trackids+\"'\"\n",
        "                value.append(str(trackids))\n",
        "                #Lấy thêm link track đầu tiên trong playlist\n",
        "                value.append(f'https://soundcloud.com' + soup.find('h2',itemprop ='name').find('a',itemprop=\"url\").get('href'))\n",
        "                #Xét điều kiện kích thước của value bằng số lượng các cột của playlist thì thêm dữ liệu vào playlists\n",
        "                if(len(value)==len(list(playlists))):\n",
        "                    zipped = zip(list(playlists), value)\n",
        "                    p = dict(zipped)\n",
        "                    playlists=playlists.append(p,ignore_index=True)\n",
        "                    return playlists, True\n",
        "    return playlists, False"
      ]
    },
    {
      "cell_type": "markdown",
      "id": "7c975fe9",
      "metadata": {
        "id": "7c975fe9"
      },
      "source": [
        "Hàm `collect_track` có các input sau: \n",
        "* `url`: là chuỗi dạng f-string, cho biết đường link đến trang track cần lấy thông tin\n",
        "* `tracks`: là dataframe chứa thông tin của track thu thập được, gồm các nhãn dữ liệu đã được khai báo \n",
        "* Hàm này dùng để thu thập các thông tin của track thêm vào tracks, hàm trả về dataframe tracks và kết quả thu thập True, False"
      ]
    },
    {
      "cell_type": "code",
      "execution_count": null,
      "id": "c0db9768",
      "metadata": {
        "id": "c0db9768"
      },
      "outputs": [],
      "source": [
        "def collect_track(url, tracks):\n",
        "    session = HTMLSession()\n",
        "    r = session.get(url)\n",
        "    if(r):\n",
        "        soup = BeautifulSoup(r.content,features=\"html.parser\")\n",
        "        value=[]\n",
        "        for s in (soup.find_all(\"script\")):\n",
        "            #Xét script có dữ liệu cần tìm \n",
        "            if(\"hydratable\" in str(s)):\n",
        "                #Cắt chuỗi trong script\n",
        "                i=str(s).find('{\"hydratable\":\"sound\"')\n",
        "                s=str(s)[i+len('{\"hydratable\":\"sound\",\"data\":{'):]\n",
        "                j=s.find('\"uri\"')\n",
        "                s=s[:j-1]\n",
        "                #Cắt chuỗi thành một mảng gồm nhiều trường dữ liệu\n",
        "                r1 = re.split(r',\"',s)\n",
        "                for i in r1:\n",
        "                    #Với mỗi phần tử là trường dữ liệu tồn tại trong dataframe, thêm vào mảng tạm value theo thứ tự\n",
        "                    t=re.split(r'\":',i)\n",
        "                    if(t[0].strip('\"')=='id' and t[1].strip('\"') in list(tracks['id'])):\n",
        "                        return tracks, False \n",
        "                    if(t[0].strip('\"') in list(tracks)): \n",
        "                        value.append(t[1].strip('\"'))\n",
        "                #Lấy thêm thông tin người đăng track\n",
        "                author =  soup.find(\"link\",rel=\"author\")\n",
        "                if (author):\n",
        "                    author = (author.get('href')).replace('/','')\n",
        "                value.append(author)\n",
        "                #Xét điều kiện kích thước của value bằng số lượng các cột của tracks thì thêm dữ liệu vào tracks\n",
        "                if(len(value)==len(list(tracks))):\n",
        "                    zipped = zip(list(tracks), value)\n",
        "                    p = dict(zipped)\n",
        "                    tracks=tracks.append(p,ignore_index=True)\n",
        "                    return tracks, True\n",
        "    return tracks,False"
      ]
    },
    {
      "cell_type": "markdown",
      "id": "eb229595",
      "metadata": {
        "id": "eb229595"
      },
      "source": [
        "Hàm `collect_all` có các input sau:\n",
        "* `users`: là dataframe chứa thông tin của user thu thập được, gồm các nhãn dữ liệu đã được khai báo \n",
        "* `playlists`: là dataframe chứa thông tin của playlist thu thập được, gồm các nhãn dữ liệu đã được khai báo \n",
        "* `tracks`: là dataframe chứa thông tin của track thu thập được, gồm các nhãn dữ liệu đã được khai báo \n",
        "* `users_file`: là chuỗi, cho biết tên của file output dạng csv lưu thông tin users sau khi thu thập từ trang web\n",
        "* `playlists_file`: là chuỗi, cho biết tên của file output dạng csv lưu thông tin playlists sau khi thu thập từ trang web\n",
        "* `tracks_file`: là chuỗi, cho biết tên của file output dạng csv lưu thông tin tracks sau khi thu thập từ trang web\n",
        "Hàm này dùng để gọi lại các hàm `collect_user`, `collect_playlist`, `collect_track` để thu thập các dữ liệu cần thiết và lưu vào các dataframe có tên tương ứng là `users`, `playlists`, `tracks` được khai báo trong hàm.Trong quá trình thu thập dữ liệu, hàm sẽ in ra số lượng dữ liệu đã thu thập. Sau khi kết thúc quá trình thu thập, hàm trả về các dataframe sẽ được sắp xếp lại các cột dữ liệu để rõ ràng hơn đồng thời cũng lưu vào file output với các thông tin tương ứng là các nhãn dữ liệu của các dataframe trên."
      ]
    },
    {
      "cell_type": "code",
      "execution_count": null,
      "id": "f51b3b7d",
      "metadata": {
        "id": "f51b3b7d"
      },
      "outputs": [],
      "source": [
        "def collect_all(users_file, playlists_file, tracks_file,users,playlists,tracks):\n",
        "    url = f'https://soundcloud.com/'\n",
        "    index = 1002\n",
        "    count_u = 0\n",
        "    count_p = 0\n",
        "    count_t = 0\n",
        "    while (True):\n",
        "        try:\n",
        "            u_url=url+str(index)\n",
        "            session = HTMLSession()\n",
        "            u = session.get(u_url)\n",
        "            if(u): \n",
        "                p_url = u_url+'/sets'\n",
        "                session = HTMLSession()\n",
        "                p=session.get(p_url) \n",
        "                #Lấy link playlists trong trang user hiện tại\n",
        "                if(p.html.find('.audible', first=True)):\n",
        "                    p_urls = p.html.find('.audible', first=True).absolute_links\n",
        "                    for link in p_urls:\n",
        "                        if('sets/' in link):\n",
        "                            p_url=link\n",
        "                            break\n",
        "                    session = HTMLSession()\n",
        "                    t = session.get(p_url)\n",
        "                    t_soup=BeautifulSoup(t.content,features=\"html.parser\")\n",
        "                    try:\n",
        "                        #Lấy link track đầu tiên trong playlist nếu có\n",
        "                        t_url=f'https://soundcloud.com' + t_soup.find('h2',itemprop ='name').find('a',itemprop=\"url\").get('href')\n",
        "                        tracks, check_t=collect_track(t_url,tracks)\n",
        "                        playlists, check_p=collect_playlist(p_url,playlists)\n",
        "                        users, check_u=collect_user(u_url,users)\n",
        "                        #Tăng biến đếm\n",
        "                        if (check_u==True): count_u=count_u+1 \n",
        "                        if (check_p==True): count_p=count_p+1 \n",
        "                        if (check_t==True): count_t=count_t+1 \n",
        "                        #print('users:',count_u,'playlists:',count_p,'tracks:',count_t)\n",
        "                        #Xuất số lượng các bộ dữ liệu đã thu thập được ở hiện tại ra màn hình\n",
        "                    except:\n",
        "                        index=index+1\n",
        "                        continue \n",
        "            index=index+1\n",
        "            #dieu kien dung\n",
        "            num=1000\n",
        "            if(count_u>num and count_p>num and count_t>num): break\n",
        "        except:\n",
        "            time.sleep(1)\n",
        "    #Sắp xếp lại các cột dữ liệu trong dataframe\n",
        "    users=users[u_order]\n",
        "    playlists=playlists[p_order]\n",
        "    tracks=tracks[t_order]\n",
        "    #Ghi dữ liệu ở dataframe vào file\n",
        "    users.to_csv(users_file,index=False)\n",
        "    playlists.to_csv(playlists_file,index=False)\n",
        "    tracks.to_csv(tracks_file,index=False)\n",
        "    return users, playlists, tracks"
      ]
    },
    {
      "cell_type": "markdown",
      "id": "c107b1c8",
      "metadata": {
        "id": "c107b1c8"
      },
      "source": [
        "**Lưu thông tin thu thập được vào các file csv tương ứng:**"
      ]
    },
    {
      "cell_type": "code",
      "execution_count": null,
      "id": "d83d84d3",
      "metadata": {
        "scrolled": true,
        "id": "d83d84d3"
      },
      "outputs": [],
      "source": [
        "#Khởi tạo DataFrame \n",
        "users=pd.DataFrame(columns=u_unorder)\n",
        "playlists = pd.DataFrame(columns=p_unorder)\n",
        "tracks=pd.DataFrame(columns=t_unorder)\n",
        "#Thu thập dữ liệu và ghi vào file\n",
        "users,playlists,tracks=collect_all('./Crawl_data/user.csv','./Crawl_data/playlist.csv','./Crawl_data/track.csv',users,playlists,tracks)"
      ]
    },
    {
      "cell_type": "code",
      "execution_count": null,
      "id": "1de9d07d",
      "metadata": {
        "id": "1de9d07d"
      },
      "outputs": [],
      "source": [
        "#Xuất dữ liệu được đọc từ file \n",
        "u=pd.read_csv('./Crawl_data/user.csv',index_col=[0])\n",
        "p=pd.read_csv('./Crawl_data/playlist.csv',index_col=[0])\n",
        "t=pd.read_csv('./Crawl_data/track.csv',index_col=[0])\n",
        "#display(u.head(),p.head(),t.head())"
      ]
    }
  ],
  "metadata": {
    "interpreter": {
      "hash": "4d6639b526f65b6d61ab746564146870a9092ad8298c92eb6893485ee3a1539c"
    },
    "kernelspec": {
      "display_name": "Python 3 (ipykernel)",
      "language": "python",
      "name": "python3"
    },
    "language_info": {
      "codemirror_mode": {
        "name": "ipython",
        "version": 3
      },
      "file_extension": ".py",
      "mimetype": "text/x-python",
      "name": "python",
      "nbconvert_exporter": "python",
      "pygments_lexer": "ipython3",
      "version": "3.9.6"
    },
    "colab": {
      "provenance": []
    }
  },
  "nbformat": 4,
  "nbformat_minor": 5
}